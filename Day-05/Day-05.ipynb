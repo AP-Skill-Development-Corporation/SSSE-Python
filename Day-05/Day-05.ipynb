{
 "cells": [
  {
   "cell_type": "markdown",
   "id": "2d816caa",
   "metadata": {},
   "source": [
    "## Jumping Statements:\n",
    "    - break => It exits from a loop\n",
    "    - continue => It skips a value from a loop\n",
    "    - pass => It is same like cotinue but for further enhancements we can use pass\n",
    "    - return => It returns single or n number of value"
   ]
  },
  {
   "cell_type": "code",
   "execution_count": 2,
   "id": "6c9cbbfc",
   "metadata": {},
   "outputs": [
    {
     "name": "stdout",
     "output_type": "stream",
     "text": [
      "Enter a range: 100\n",
      "0 1 2 3 4 "
     ]
    }
   ],
   "source": [
    "n = int(input(\"Enter a range: \"))\n",
    "for i in range(n):\n",
    "    if i == 5:\n",
    "        break\n",
    "    else:\n",
    "        print(i,end=\" \")"
   ]
  },
  {
   "cell_type": "code",
   "execution_count": 3,
   "id": "d8c0d71d",
   "metadata": {},
   "outputs": [
    {
     "name": "stdout",
     "output_type": "stream",
     "text": [
      "Enter a range: 10\n",
      "0 1 2 3 4 6 7 8 9 "
     ]
    }
   ],
   "source": [
    "n = int(input(\"Enter a range: \"))\n",
    "for i in range(n):\n",
    "    if i == 5:\n",
    "        continue\n",
    "    else:\n",
    "        print(i,end=\" \")"
   ]
  },
  {
   "cell_type": "code",
   "execution_count": 4,
   "id": "6438f2ce",
   "metadata": {},
   "outputs": [
    {
     "name": "stdout",
     "output_type": "stream",
     "text": [
      "Enter a range: 20\n",
      "0 1 2 3 4 6 8 9 11 12 13 14 15 16 17 18 19 "
     ]
    }
   ],
   "source": [
    "n = int(input(\"Enter a range: \"))\n",
    "for i in range(n):\n",
    "    if i == 5 or i == 7 or i == 10:\n",
    "        continue\n",
    "    else:\n",
    "        print(i,end=\" \")"
   ]
  },
  {
   "cell_type": "code",
   "execution_count": 5,
   "id": "e94d03ad",
   "metadata": {},
   "outputs": [
    {
     "name": "stdout",
     "output_type": "stream",
     "text": [
      "Enter a range: 10\n",
      "0 1 2 3 4 6 7 8 9 "
     ]
    }
   ],
   "source": [
    "n = int(input(\"Enter a range: \"))\n",
    "for i in range(n):\n",
    "    if i == 5:\n",
    "        pass\n",
    "    else:\n",
    "        print(i,end=\" \")"
   ]
  },
  {
   "cell_type": "code",
   "execution_count": 6,
   "id": "7ad29a3c",
   "metadata": {},
   "outputs": [
    {
     "name": "stdout",
     "output_type": "stream",
     "text": [
      "Enter a range: 10\n",
      "0 1 2 3 4 5 6 7 8 9 "
     ]
    }
   ],
   "source": [
    "n = int(input(\"Enter a range: \"))\n",
    "for i in range(n):\n",
    "    if i == 5:\n",
    "        pass\n",
    "    print(i,end=\" \")"
   ]
  },
  {
   "cell_type": "code",
   "execution_count": 10,
   "id": "549d6649",
   "metadata": {},
   "outputs": [
    {
     "name": "stdout",
     "output_type": "stream",
     "text": [
      "1.Addition\n",
      "2.Reverse of a number\n",
      "3.Digit Count\n",
      "4.Exit\n",
      "Enter Your Option: 5\n",
      "Invalid Option Try Again....\n",
      "1.Addition\n",
      "2.Reverse of a number\n",
      "3.Digit Count\n",
      "4.Exit\n",
      "Enter Your Option: 1\n",
      "Enter a value: 2\n",
      "Enter b value: 5\n",
      "Addition of 2 and 5 is: 7\n",
      "1.Addition\n",
      "2.Reverse of a number\n",
      "3.Digit Count\n",
      "4.Exit\n",
      "Enter Your Option: 3\n",
      "Enter a number: 12\n",
      "Entered number is: 12 and its digit count is: 2\n",
      "1.Addition\n",
      "2.Reverse of a number\n",
      "3.Digit Count\n",
      "4.Exit\n",
      "Enter Your Option: 2\n",
      "Enter a number: 12345\n",
      "Given number 12345 and its reverse is: 54321\n",
      "1.Addition\n",
      "2.Reverse of a number\n",
      "3.Digit Count\n",
      "4.Exit\n",
      "Enter Your Option: 2\n",
      "Enter a number: 2456\n",
      "Given number 2456 and its reverse is: 6542\n",
      "1.Addition\n",
      "2.Reverse of a number\n",
      "3.Digit Count\n",
      "4.Exit\n",
      "Enter Your Option: 4\n",
      "Thankyou Try Again Later....\n"
     ]
    }
   ],
   "source": [
    "while True:\n",
    "    print(\"1.Addition\\n2.Reverse of a number\\n3.Digit Count\\n4.Exit\")\n",
    "    k = int(input(\"Enter Your Option: \"))\n",
    "    if k == 3:\n",
    "        g = int(input(\"Enter a number: \"))\n",
    "        c = 0\n",
    "        print(f\"Entered number is: {g} and its digit count is: \",end=\"\")\n",
    "        while g!=0:\n",
    "            g//=10\n",
    "            c+=1\n",
    "        print(c)\n",
    "    elif k == 1:\n",
    "        n = int(input(\"Enter a value: \"))\n",
    "        m = int(input(\"Enter b value: \"))\n",
    "        print(f\"Addition of {n} and {m} is: {n+m}\")\n",
    "    elif k == 2:\n",
    "        h = int(input(\"Enter a number: \"))\n",
    "        t = 0\n",
    "        print(f\"Given number {h} and its reverse is: \",end=\"\")\n",
    "        while h!=0:\n",
    "            t = t*10+h%10\n",
    "            h //= 10\n",
    "        print(t)\n",
    "    elif k == 4:\n",
    "        print(\"Thankyou Try Again Later....\")\n",
    "        break\n",
    "    else:\n",
    "        print(\"Invalid Option Try Again....\")"
   ]
  },
  {
   "cell_type": "markdown",
   "id": "04bf23cd",
   "metadata": {},
   "source": [
    "## Nested Loop or Inner Loop\n",
    "    - Loop within a Loop\n",
    "    - Outer Loop will be considered for rows and Inner Loop is considered for columns"
   ]
  },
  {
   "cell_type": "code",
   "execution_count": 14,
   "id": "9b337bca",
   "metadata": {},
   "outputs": [
    {
     "name": "stdout",
     "output_type": "stream",
     "text": [
      "Enter a range: 3\n",
      "00 01 02 \n",
      "10 11 12 \n",
      "20 21 22 \n"
     ]
    }
   ],
   "source": [
    "n = int(input(\"Enter a range: \"))\n",
    "for i in range(n):\n",
    "    for j in range(n):\n",
    "        print(f\"{i}{j}\",end=\" \")\n",
    "    print()"
   ]
  },
  {
   "cell_type": "markdown",
   "id": "c43a71d3",
   "metadata": {},
   "source": [
    "```\n",
    "Task:\n",
    "=====\n",
    "    Input:\n",
    "        Enter a range: 5\n",
    "    Output:    \n",
    "        A0 A1 A2 A3 A4\n",
    "        B0 B1 B2 B3 B4\n",
    "        C0 C1 C2 C3 C4\n",
    "        D0 D1 D2 D3 D4\n",
    "        E0 E1 E2 E3 E4\n",
    "```"
   ]
  },
  {
   "cell_type": "code",
   "execution_count": 22,
   "id": "75647ee1",
   "metadata": {},
   "outputs": [
    {
     "name": "stdout",
     "output_type": "stream",
     "text": [
      "Enter a character:  \n",
      "Entered Character   ASCII Valus is: 32\n"
     ]
    }
   ],
   "source": [
    "h = input(\"Enter a character: \")\n",
    "print(f\"Entered Character {h} ASCII Valus is: {ord(h)}\")"
   ]
  },
  {
   "cell_type": "code",
   "execution_count": 26,
   "id": "1dcf6f35",
   "metadata": {},
   "outputs": [
    {
     "name": "stdout",
     "output_type": "stream",
     "text": [
      "Enter ASCII Value: 122\n",
      "Entered ASCII Value 122 and its Character is: z\n"
     ]
    }
   ],
   "source": [
    "m = int(input(\"Enter ASCII Value: \"))\n",
    "print(f\"Entered ASCII Value {m} and its Character is: {chr(m)}\")"
   ]
  },
  {
   "cell_type": "code",
   "execution_count": 27,
   "id": "eafa4786",
   "metadata": {},
   "outputs": [
    {
     "name": "stdout",
     "output_type": "stream",
     "text": [
      "0 => \u0000\t1 => \u0001\t2 => \u0002\t3 => \u0003\t4 => \u0004\t5 => \u0005\t6 => \u0006\t7 => \u0007\t8 => \b\t9 => \t\t10 => \n",
      "\t11 => \u000b",
      "\t12 => \f",
      "\t13 => \r",
      "\t14 => \u000e\t15 => \u000f\t16 => \u0010\t17 => \u0011\t18 => \u0012\t19 => \u0013\t20 => \u0014\t21 => \u0015\t22 => \u0016\t23 => \u0017\t24 => \u0018\t25 => \u0019\t26 => \u001a\t27 => \u001b\t28 => \u001c",
      "\t29 => \u001d",
      "\t30 => \u001e",
      "\t31 => \u001f\t32 =>  \t33 => !\t34 => \"\t35 => #\t36 => $\t37 => %\t38 => &\t39 => '\t40 => (\t41 => )\t42 => *\t43 => +\t44 => ,\t45 => -\t46 => .\t47 => /\t48 => 0\t49 => 1\t50 => 2\t51 => 3\t52 => 4\t53 => 5\t54 => 6\t55 => 7\t56 => 8\t57 => 9\t58 => :\t59 => ;\t60 => <\t61 => =\t62 => >\t63 => ?\t64 => @\t65 => A\t66 => B\t67 => C\t68 => D\t69 => E\t70 => F\t71 => G\t72 => H\t73 => I\t74 => J\t75 => K\t76 => L\t77 => M\t78 => N\t79 => O\t80 => P\t81 => Q\t82 => R\t83 => S\t84 => T\t85 => U\t86 => V\t87 => W\t88 => X\t89 => Y\t90 => Z\t91 => [\t92 => \\\t93 => ]\t94 => ^\t95 => _\t96 => `\t97 => a\t98 => b\t99 => c\t100 => d\t101 => e\t102 => f\t103 => g\t104 => h\t105 => i\t106 => j\t107 => k\t108 => l\t109 => m\t110 => n\t111 => o\t112 => p\t113 => q\t114 => r\t115 => s\t116 => t\t117 => u\t118 => v\t119 => w\t120 => x\t121 => y\t122 => z\t123 => {\t124 => |\t125 => }\t126 => ~\t127 => \t128 => \t129 => \t130 => \t131 => \t132 => \t133 => ",
      "\t134 => \t135 => \t136 => \t137 => \t138 => \t139 => \t140 => \t141 => \t142 => \t143 => \t144 => \t145 => \t146 => \t147 => \t148 => \t149 => \t150 => \t151 => \t152 => \t153 => \t154 => \t155 => \t156 => \t157 => \t158 => \t159 => \t160 =>  \t161 => ¡\t162 => ¢\t163 => £\t164 => ¤\t165 => ¥\t166 => ¦\t167 => §\t168 => ¨\t169 => ©\t170 => ª\t171 => «\t172 => ¬\t173 => ­\t174 => ®\t175 => ¯\t176 => °\t177 => ±\t178 => ²\t179 => ³\t180 => ´\t181 => µ\t182 => ¶\t183 => ·\t184 => ¸\t185 => ¹\t186 => º\t187 => »\t188 => ¼\t189 => ½\t190 => ¾\t191 => ¿\t192 => À\t193 => Á\t194 => Â\t195 => Ã\t196 => Ä\t197 => Å\t198 => Æ\t199 => Ç\t200 => È\t201 => É\t202 => Ê\t203 => Ë\t204 => Ì\t205 => Í\t206 => Î\t207 => Ï\t208 => Ð\t209 => Ñ\t210 => Ò\t211 => Ó\t212 => Ô\t213 => Õ\t214 => Ö\t215 => ×\t216 => Ø\t217 => Ù\t218 => Ú\t219 => Û\t220 => Ü\t221 => Ý\t222 => Þ\t223 => ß\t224 => à\t225 => á\t226 => â\t227 => ã\t228 => ä\t229 => å\t230 => æ\t231 => ç\t232 => è\t233 => é\t234 => ê\t235 => ë\t236 => ì\t237 => í\t238 => î\t239 => ï\t240 => ð\t241 => ñ\t242 => ò\t243 => ó\t244 => ô\t245 => õ\t246 => ö\t247 => ÷\t248 => ø\t249 => ù\t250 => ú\t251 => û\t252 => ü\t253 => ý\t254 => þ\t255 => ÿ\t"
     ]
    }
   ],
   "source": [
    "for i in range(256):\n",
    "    print(f\"{i} => {chr(i)}\",end=\"\\t\")"
   ]
  },
  {
   "cell_type": "code",
   "execution_count": 35,
   "id": "92f3b54c",
   "metadata": {},
   "outputs": [
    {
     "name": "stdout",
     "output_type": "stream",
     "text": [
      "Enter a range: 5\n",
      "A0 A1 A2 A3 A4 \n",
      "B0 B1 B2 B3 B4 \n",
      "C0 C1 C2 C3 C4 \n",
      "D0 D1 D2 D3 D4 \n",
      "E0 E1 E2 E3 E4 \n"
     ]
    }
   ],
   "source": [
    "n = int(input(\"Enter a range: \"))\n",
    "for i in range(n):\n",
    "    for j in range(n):\n",
    "        print(f\"{chr(i+65)}{j}\",end=\" \")\n",
    "    print()"
   ]
  },
  {
   "cell_type": "code",
   "execution_count": 42,
   "id": "c9d7b2dd",
   "metadata": {},
   "outputs": [
    {
     "name": "stdout",
     "output_type": "stream",
     "text": [
      "00 01 02 03 04 05 06 07 08 09 10 "
     ]
    }
   ],
   "source": [
    "for i in range(11):\n",
    "    if i>=10:\n",
    "        print(i,end=\" \")\n",
    "    else:\n",
    "        print(\"0\"+str(i),end=\" \")"
   ]
  },
  {
   "cell_type": "code",
   "execution_count": 44,
   "id": "bc445fb8",
   "metadata": {},
   "outputs": [
    {
     "name": "stdout",
     "output_type": "stream",
     "text": [
      "00 01 02 03 04 05 06 07 08 09 10 "
     ]
    }
   ],
   "source": [
    "for j in range(11):\n",
    "    print(f\"{j:02}\",end=\" \")"
   ]
  },
  {
   "cell_type": "code",
   "execution_count": 50,
   "id": "def96034",
   "metadata": {},
   "outputs": [
    {
     "name": "stdout",
     "output_type": "stream",
     "text": [
      "[] && [] ** [] ** [] \n",
      "** && ** () ** () ** \n",
      "|| && || || || || || \n",
      "** && ** () ** () ** \n",
      "() && () \n"
     ]
    }
   ],
   "source": [
    "z = 1\n",
    "for i in range(5):\n",
    "    for j in range(7):\n",
    "        if z>=32:\n",
    "            break\n",
    "        else:\n",
    "            if j == 1:\n",
    "                print(\"&&\",end=\" \")\n",
    "            elif i == 2:\n",
    "                print(\"||\",end=\" \")\n",
    "            elif z%2==0:\n",
    "                print(\"**\",end=\" \")\n",
    "            elif z<10:\n",
    "                print(\"[]\",end=\" \")\n",
    "            else:\n",
    "                print(\"()\",end=\" \")\n",
    "        z+=1\n",
    "    print()"
   ]
  },
  {
   "cell_type": "code",
   "execution_count": 51,
   "id": "96625d83",
   "metadata": {},
   "outputs": [
    {
     "name": "stdout",
     "output_type": "stream",
     "text": [
      "3\n",
      "Weird\n"
     ]
    }
   ],
   "source": [
    "n = int(input())\n",
    "if n%2==0:\n",
    "    if n == 4:\n",
    "        print(\"Not Weird\")\n",
    "    elif n>=5 and n<=20:\n",
    "        print(\"Weird\")\n",
    "    else:\n",
    "        print(\"Not Weird\")\n",
    "else:\n",
    "    print(\"Weird\")"
   ]
  },
  {
   "cell_type": "code",
   "execution_count": 52,
   "id": "1d0033a2",
   "metadata": {},
   "outputs": [
    {
     "name": "stdout",
     "output_type": "stream",
     "text": [
      "3\n",
      "Weird\n"
     ]
    }
   ],
   "source": [
    "n = int(input())\n",
    "if n%2==0 and n == 4:\n",
    "    print(\"Not Weird\")\n",
    "elif n%2==0 and n>=5 and n<=20:\n",
    "    print(\"Weird\")\n",
    "elif n%2==0 and n>20:\n",
    "    print(\"Not Weird\")\n",
    "else:\n",
    "    print(\"Weird\")"
   ]
  },
  {
   "cell_type": "markdown",
   "id": "f68f7d22",
   "metadata": {},
   "source": [
    "## Functions:\n",
    "    - To perform a specific Task\n",
    "    - 2 types\n",
    "        => Builtin Function\n",
    "        => User Defined Function\n",
    "    Syntax:\n",
    "        def functionname(arguments):\n",
    "            //statements\n",
    "            return return_value"
   ]
  },
  {
   "cell_type": "markdown",
   "id": "22da66ed",
   "metadata": {},
   "source": [
    "## User Defined Fucntion Types\n",
    "    - With returntype and with arguments\n",
    "    - With returntype and without arguments\n",
    "    - Without returntype and with arguments\n",
    "    - Without returntype and without arguments"
   ]
  },
  {
   "cell_type": "code",
   "execution_count": 53,
   "id": "60aa9d63",
   "metadata": {},
   "outputs": [
    {
     "name": "stdout",
     "output_type": "stream",
     "text": [
      "Enter a Number: 1245\n",
      "Entered Number is: 1245 and its reverse is: 5421\n"
     ]
    }
   ],
   "source": [
    "# With returntype and with arguments\n",
    "# Reading => Main\n",
    "# Printing => Main\n",
    "# Logic => Function\n",
    "\n",
    "def rvse(z):\n",
    "    '''\n",
    "        Printing a reverse number by using functions\n",
    "    '''\n",
    "    c = 0\n",
    "    while z!=0:\n",
    "        c = c*10+z%10\n",
    "        z//=10\n",
    "    return c\n",
    "\n",
    "k = int(input(\"Enter a Number: \"))\n",
    "print(f\"Entered Number is: {k} and its reverse is: \",end=\"\")\n",
    "print(rvse(k))"
   ]
  },
  {
   "cell_type": "code",
   "execution_count": 55,
   "id": "dc98c3fd",
   "metadata": {},
   "outputs": [
    {
     "name": "stdout",
     "output_type": "stream",
     "text": [
      "\n",
      "        Printing a reverse number by using functions\n",
      "    \n"
     ]
    }
   ],
   "source": [
    "print(rvse.__doc__)"
   ]
  },
  {
   "cell_type": "code",
   "execution_count": 56,
   "id": "e7061b68",
   "metadata": {},
   "outputs": [
    {
     "name": "stdout",
     "output_type": "stream",
     "text": [
      "Help on function rvse in module __main__:\n",
      "\n",
      "rvse(z)\n",
      "    Printing a reverse number by using functions\n",
      "\n"
     ]
    }
   ],
   "source": [
    "help(rvse)"
   ]
  },
  {
   "cell_type": "code",
   "execution_count": null,
   "id": "8f1269f2",
   "metadata": {},
   "outputs": [],
   "source": []
  }
 ],
 "metadata": {
  "kernelspec": {
   "display_name": "Python 3 (ipykernel)",
   "language": "python",
   "name": "python3"
  },
  "language_info": {
   "codemirror_mode": {
    "name": "ipython",
    "version": 3
   },
   "file_extension": ".py",
   "mimetype": "text/x-python",
   "name": "python",
   "nbconvert_exporter": "python",
   "pygments_lexer": "ipython3",
   "version": "3.9.13"
  }
 },
 "nbformat": 4,
 "nbformat_minor": 5
}
