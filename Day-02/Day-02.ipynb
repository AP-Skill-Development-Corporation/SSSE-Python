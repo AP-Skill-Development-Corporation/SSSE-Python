{
 "cells": [
  {
   "cell_type": "markdown",
   "id": "5d74b7be",
   "metadata": {},
   "source": [
    "# Python Basics:"
   ]
  },
  {
   "cell_type": "markdown",
   "id": "2a6cd765",
   "metadata": {},
   "source": [
    "## Variables:\n",
    "    - To Store a Value\n",
    "    - To Change a Value\n",
    "    Syntax:\n",
    "        Variablename = value"
   ]
  },
  {
   "cell_type": "code",
   "execution_count": 1,
   "id": "0bc08e68",
   "metadata": {},
   "outputs": [
    {
     "data": {
      "text/plain": [
       "45"
      ]
     },
     "execution_count": 1,
     "metadata": {},
     "output_type": "execute_result"
    }
   ],
   "source": [
    "w = 45\n",
    "w"
   ]
  },
  {
   "cell_type": "code",
   "execution_count": 2,
   "id": "82f7d376",
   "metadata": {},
   "outputs": [
    {
     "data": {
      "text/plain": [
       "12.0154"
      ]
     },
     "execution_count": 2,
     "metadata": {},
     "output_type": "execute_result"
    }
   ],
   "source": [
    "y = 12.0154\n",
    "y"
   ]
  },
  {
   "cell_type": "code",
   "execution_count": 3,
   "id": "d2aab15f",
   "metadata": {},
   "outputs": [
    {
     "data": {
      "text/plain": [
       "12.0154"
      ]
     },
     "execution_count": 3,
     "metadata": {},
     "output_type": "execute_result"
    }
   ],
   "source": [
    "w\n",
    "y"
   ]
  },
  {
   "cell_type": "code",
   "execution_count": 4,
   "id": "a4dada1c",
   "metadata": {},
   "outputs": [
    {
     "data": {
      "text/plain": [
       "45"
      ]
     },
     "execution_count": 4,
     "metadata": {},
     "output_type": "execute_result"
    }
   ],
   "source": [
    "y\n",
    "w"
   ]
  },
  {
   "cell_type": "code",
   "execution_count": 5,
   "id": "cda28d6d",
   "metadata": {},
   "outputs": [
    {
     "data": {
      "text/plain": [
       "(12.0154, 45)"
      ]
     },
     "execution_count": 5,
     "metadata": {},
     "output_type": "execute_result"
    }
   ],
   "source": [
    "y,w"
   ]
  },
  {
   "cell_type": "markdown",
   "id": "b9220920",
   "metadata": {},
   "source": [
    "## Variable Assignments:\n",
    "    - single variable = single value\n",
    "    - n number of variables = n number of values\n",
    "    - n number of variables = single value"
   ]
  },
  {
   "cell_type": "code",
   "execution_count": 6,
   "id": "d5c731d5",
   "metadata": {},
   "outputs": [
    {
     "data": {
      "text/plain": [
       "(45, 56.012)"
      ]
     },
     "execution_count": 6,
     "metadata": {},
     "output_type": "execute_result"
    }
   ],
   "source": [
    "u = 45\n",
    "p = 56.012\n",
    "u,p"
   ]
  },
  {
   "cell_type": "code",
   "execution_count": 7,
   "id": "8c8618b2",
   "metadata": {},
   "outputs": [
    {
     "data": {
      "text/plain": [
       "(12, 32.012, '56')"
      ]
     },
     "execution_count": 7,
     "metadata": {},
     "output_type": "execute_result"
    }
   ],
   "source": [
    "a,b,c = 12,32.012,'56'\n",
    "a,b,c"
   ]
  },
  {
   "cell_type": "code",
   "execution_count": 8,
   "id": "7471e594",
   "metadata": {},
   "outputs": [
    {
     "ename": "ValueError",
     "evalue": "too many values to unpack (expected 3)",
     "output_type": "error",
     "traceback": [
      "\u001b[1;31m---------------------------------------------------------------------------\u001b[0m",
      "\u001b[1;31mValueError\u001b[0m                                Traceback (most recent call last)",
      "Cell \u001b[1;32mIn[8], line 1\u001b[0m\n\u001b[1;32m----> 1\u001b[0m a,b,c \u001b[38;5;241m=\u001b[39m \u001b[38;5;241m12\u001b[39m,\u001b[38;5;241m32.012\u001b[39m,\u001b[38;5;124m'\u001b[39m\u001b[38;5;124m56\u001b[39m\u001b[38;5;124m'\u001b[39m,\u001b[38;5;241m1.00\u001b[39m\n\u001b[0;32m      2\u001b[0m a,b,c\n",
      "\u001b[1;31mValueError\u001b[0m: too many values to unpack (expected 3)"
     ]
    }
   ],
   "source": [
    "a,b,c = 12,32.012,'56',1.00\n",
    "a,b,c"
   ]
  },
  {
   "cell_type": "code",
   "execution_count": 9,
   "id": "0fb8aa9a",
   "metadata": {},
   "outputs": [
    {
     "ename": "ValueError",
     "evalue": "not enough values to unpack (expected 4, got 3)",
     "output_type": "error",
     "traceback": [
      "\u001b[1;31m---------------------------------------------------------------------------\u001b[0m",
      "\u001b[1;31mValueError\u001b[0m                                Traceback (most recent call last)",
      "Cell \u001b[1;32mIn[9], line 1\u001b[0m\n\u001b[1;32m----> 1\u001b[0m a,b,c,d \u001b[38;5;241m=\u001b[39m \u001b[38;5;241m12\u001b[39m,\u001b[38;5;241m32.012\u001b[39m,\u001b[38;5;124m'\u001b[39m\u001b[38;5;124m56\u001b[39m\u001b[38;5;124m'\u001b[39m\n\u001b[0;32m      2\u001b[0m a,b,c,d\n",
      "\u001b[1;31mValueError\u001b[0m: not enough values to unpack (expected 4, got 3)"
     ]
    }
   ],
   "source": [
    "a,b,c,d = 12,32.012,'56'\n",
    "a,b,c,d"
   ]
  },
  {
   "cell_type": "code",
   "execution_count": 10,
   "id": "6922278b",
   "metadata": {},
   "outputs": [
    {
     "data": {
      "text/plain": [
       "(450, 450, 450)"
      ]
     },
     "execution_count": 10,
     "metadata": {},
     "output_type": "execute_result"
    }
   ],
   "source": [
    "p = q = s = 450\n",
    "p,q,s"
   ]
  },
  {
   "cell_type": "code",
   "execution_count": 11,
   "id": "1278f4a2",
   "metadata": {},
   "outputs": [
    {
     "data": {
      "text/plain": [
       "(2161849318960, 2161849318960, 2161849318960)"
      ]
     },
     "execution_count": 11,
     "metadata": {},
     "output_type": "execute_result"
    }
   ],
   "source": [
    "id(p),id(q),id(s)"
   ]
  },
  {
   "cell_type": "markdown",
   "id": "a649f45e",
   "metadata": {},
   "source": [
    "## Data Types:\n",
    "    - int => only numbers\n",
    "    - float => both numbers and decimal values\n",
    "    - string => enclosed with ' or \"\n",
    "    - complex => real and imaginary \n",
    "    - boolean => True or False\n",
    "    - None => None\n",
    "    - All Data Structures[List,tuple,set and dictionary]"
   ]
  },
  {
   "cell_type": "markdown",
   "id": "97550d8e",
   "metadata": {},
   "source": [
    "## Operators:\n",
    "    - Arithmetic => +,-,*,/,%,//,**\n",
    "    - Logical => AND,OR,NOT\n",
    "    - Bitwise => &,|,!,^,>>,<<\n",
    "    - Relational => >,<,>=,<=,!=,==\n",
    "    - Assignment => +=,-=,/=,*=,%=,//=,**=\n",
    "    - Membership => in and not in\n",
    "    - Identity => is, is not"
   ]
  },
  {
   "cell_type": "code",
   "execution_count": 12,
   "id": "1aca81d7",
   "metadata": {},
   "outputs": [
    {
     "name": "stdout",
     "output_type": "stream",
     "text": [
      "45\n"
     ]
    },
    {
     "data": {
      "text/plain": [
       "'45'"
      ]
     },
     "execution_count": 12,
     "metadata": {},
     "output_type": "execute_result"
    }
   ],
   "source": [
    "w = '45'\n",
    "print(w)\n",
    "w"
   ]
  },
  {
   "cell_type": "markdown",
   "id": "c51779fe",
   "metadata": {},
   "source": [
    "## Type:\n",
    "    - To know the data type of a variable\n",
    "    Syntax:\n",
    "        type(variablename)"
   ]
  },
  {
   "cell_type": "code",
   "execution_count": 13,
   "id": "93867ca5",
   "metadata": {},
   "outputs": [
    {
     "name": "stdout",
     "output_type": "stream",
     "text": [
      "12 <class 'int'>\n",
      "23.0121 <class 'float'>\n",
      "True <class 'bool'>\n",
      "(1+3j) <class 'complex'>\n",
      "None <class 'NoneType'>\n",
      "Prasad <class 'str'>\n",
      "12 <class 'str'>\n"
     ]
    }
   ],
   "source": [
    "a,b,c,d,e,f,g = 12,23.0121,True,1+3j,None,'Prasad','12'\n",
    "print(a,type(a))\n",
    "print(b,type(b))\n",
    "print(c,type(c))\n",
    "print(d,type(d))\n",
    "print(e,type(e))\n",
    "print(f,type(f))\n",
    "print(g,type(g))"
   ]
  },
  {
   "cell_type": "code",
   "execution_count": 14,
   "id": "64dfb5cc",
   "metadata": {},
   "outputs": [
    {
     "data": {
      "text/plain": [
       "int"
      ]
     },
     "execution_count": 14,
     "metadata": {},
     "output_type": "execute_result"
    }
   ],
   "source": [
    "v = 45\n",
    "type(v)"
   ]
  },
  {
   "cell_type": "code",
   "execution_count": null,
   "id": "312bbc24",
   "metadata": {},
   "outputs": [],
   "source": []
  }
 ],
 "metadata": {
  "kernelspec": {
   "display_name": "Python 3 (ipykernel)",
   "language": "python",
   "name": "python3"
  },
  "language_info": {
   "codemirror_mode": {
    "name": "ipython",
    "version": 3
   },
   "file_extension": ".py",
   "mimetype": "text/x-python",
   "name": "python",
   "nbconvert_exporter": "python",
   "pygments_lexer": "ipython3",
   "version": "3.9.13"
  }
 },
 "nbformat": 4,
 "nbformat_minor": 5
}
