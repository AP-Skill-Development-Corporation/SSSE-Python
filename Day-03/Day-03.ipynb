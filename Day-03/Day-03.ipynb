{
 "cells": [
  {
   "cell_type": "markdown",
   "id": "224ecf80",
   "metadata": {},
   "source": [
    "## Markdown"
   ]
  },
  {
   "cell_type": "markdown",
   "id": "ae0e8c51",
   "metadata": {},
   "source": [
    "## Styling Text\n",
    "\n",
    "**Example for Bold**\n",
    "__Example for bold__\n",
    "\n",
    "*Example for Italic*\n",
    "_Example for italic_\n",
    "\n",
    "***All bold anf Italic***\n",
    "\n",
    "**This is an Example for _Nested_ Italic**\n",
    "\n",
    "~~Example for StrikeThrough~~\n"
   ]
  },
  {
   "cell_type": "markdown",
   "id": "a6f7105b",
   "metadata": {},
   "source": [
    "## Quoting Text\n",
    "> Sample Example for Quoting Text"
   ]
  },
  {
   "cell_type": "markdown",
   "id": "242d29ee",
   "metadata": {},
   "source": [
    "## Quoting Code\n",
    "\n",
    "``Chapter-1 Chapter-2``\n",
    "\n",
    "``\n",
    "Chapter-1\n",
    "Chapter-2\n",
    "``\n",
    "\n",
    "Sample Example for ``Quoting Text``\n",
    "\n",
    "```\n",
    "def fun():\n",
    "    return return_value\n",
    "```\n"
   ]
  },
  {
   "cell_type": "markdown",
   "id": "51cdf260",
   "metadata": {},
   "source": [
    "## Links\n",
    "\n",
    "SSSE College Link [Click here](https://www.sseptp.org/)\n"
   ]
  },
  {
   "cell_type": "markdown",
   "id": "6307d9a4",
   "metadata": {},
   "source": [
    "## Relative Link\n",
    "\n",
    "First Python Program [Click Here](demo.py) \n",
    "\n",
    "Image Access by using Relative Link [Click Here](sample.jpeg)"
   ]
  },
  {
   "cell_type": "markdown",
   "id": "79899158",
   "metadata": {},
   "source": [
    "## Images\n",
    "\n",
    "![Logo](data:image/jpeg;base64,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)"
   ]
  },
  {
   "cell_type": "code",
   "execution_count": 1,
   "id": "8c9770db",
   "metadata": {},
   "outputs": [],
   "source": [
    "import keyword"
   ]
  },
  {
   "cell_type": "code",
   "execution_count": 2,
   "id": "6381ab1c",
   "metadata": {},
   "outputs": [
    {
     "name": "stdout",
     "output_type": "stream",
     "text": [
      "['__all__', '__builtins__', '__cached__', '__doc__', '__file__', '__loader__', '__name__', '__package__', '__spec__', 'iskeyword', 'issoftkeyword', 'kwlist', 'softkwlist']\n"
     ]
    }
   ],
   "source": [
    "print(dir(keyword))"
   ]
  },
  {
   "cell_type": "code",
   "execution_count": 3,
   "id": "01724bee",
   "metadata": {},
   "outputs": [
    {
     "name": "stdout",
     "output_type": "stream",
     "text": [
      "['False', 'None', 'True', '__peg_parser__', 'and', 'as', 'assert', 'async', 'await', 'break', 'class', 'continue', 'def', 'del', 'elif', 'else', 'except', 'finally', 'for', 'from', 'global', 'if', 'import', 'in', 'is', 'lambda', 'nonlocal', 'not', 'or', 'pass', 'raise', 'return', 'try', 'while', 'with', 'yield']\n"
     ]
    }
   ],
   "source": [
    "print(keyword.kwlist)"
   ]
  },
  {
   "cell_type": "code",
   "execution_count": 4,
   "id": "1bea8ee0",
   "metadata": {},
   "outputs": [
    {
     "name": "stdout",
     "output_type": "stream",
     "text": [
      "36\n"
     ]
    }
   ],
   "source": [
    "print(len(keyword.kwlist))"
   ]
  },
  {
   "cell_type": "markdown",
   "id": "9a223ead",
   "metadata": {},
   "source": [
    "## Typecasting:\n",
    "    - To change one data type to another data type\n",
    "    - int()\n",
    "    - float()\n",
    "    - str()\n",
    "    - complex()\n",
    "    - All Data Structures [list(),tuple(),set() and dict()]"
   ]
  },
  {
   "cell_type": "markdown",
   "id": "ba461904",
   "metadata": {},
   "source": [
    "## Input Formatting:\n",
    "    - By default it stores string data type value\n",
    "    - It displays an info to a user\n",
    "    - It reads a value from user\n",
    "    Syntax:\n",
    "        variablename = input(\"Something info\")"
   ]
  },
  {
   "cell_type": "code",
   "execution_count": 7,
   "id": "9e229741",
   "metadata": {},
   "outputs": [
    {
     "name": "stdout",
     "output_type": "stream",
     "text": [
      "Enter a value: kiran\n",
      "kiran <class 'str'>\n"
     ]
    }
   ],
   "source": [
    "n = input(\"Enter a value: \")\n",
    "print(n,type(n))"
   ]
  },
  {
   "cell_type": "code",
   "execution_count": 6,
   "id": "6b1b3f4e",
   "metadata": {},
   "outputs": [
    {
     "name": "stdout",
     "output_type": "stream",
     "text": [
      "45 <class 'int'>\n"
     ]
    }
   ],
   "source": [
    "w = 45\n",
    "print(w,type(w))"
   ]
  },
  {
   "cell_type": "code",
   "execution_count": 1,
   "id": "9733d823",
   "metadata": {},
   "outputs": [
    {
     "ename": "NameError",
     "evalue": "name 'keyword' is not defined",
     "output_type": "error",
     "traceback": [
      "\u001b[1;31m---------------------------------------------------------------------------\u001b[0m",
      "\u001b[1;31mNameError\u001b[0m                                 Traceback (most recent call last)",
      "Cell \u001b[1;32mIn[1], line 1\u001b[0m\n\u001b[1;32m----> 1\u001b[0m \u001b[38;5;28mprint\u001b[39m(\u001b[38;5;28mdir\u001b[39m(\u001b[43mkeyword\u001b[49m))\n",
      "\u001b[1;31mNameError\u001b[0m: name 'keyword' is not defined"
     ]
    }
   ],
   "source": [
    "print(dir(keyword))"
   ]
  },
  {
   "cell_type": "code",
   "execution_count": 2,
   "id": "4cf2d773",
   "metadata": {},
   "outputs": [
    {
     "ename": "NameError",
     "evalue": "name 'w' is not defined",
     "output_type": "error",
     "traceback": [
      "\u001b[1;31m---------------------------------------------------------------------------\u001b[0m",
      "\u001b[1;31mNameError\u001b[0m                                 Traceback (most recent call last)",
      "Cell \u001b[1;32mIn[2], line 1\u001b[0m\n\u001b[1;32m----> 1\u001b[0m \u001b[43mw\u001b[49m\n",
      "\u001b[1;31mNameError\u001b[0m: name 'w' is not defined"
     ]
    }
   ],
   "source": [
    "w"
   ]
  },
  {
   "cell_type": "code",
   "execution_count": 8,
   "id": "faf2674b",
   "metadata": {},
   "outputs": [
    {
     "name": "stdout",
     "output_type": "stream",
     "text": [
      "Enter a value: 45\n",
      "Enter b value: 89.02165\n",
      "45 <class 'str'>\n",
      "89.02165 <class 'str'>\n"
     ]
    }
   ],
   "source": [
    "w = input(\"Enter a value: \")\n",
    "z = input(\"Enter b value: \")\n",
    "print(w,type(w))\n",
    "print(z,type(z))"
   ]
  },
  {
   "cell_type": "code",
   "execution_count": 9,
   "id": "3b6dda8d",
   "metadata": {},
   "outputs": [
    {
     "name": "stdout",
     "output_type": "stream",
     "text": [
      "Enter a value: 12\n",
      "Enter b value: 35.0564\n",
      "12 <class 'str'> 35.0564 <class 'str'>\n"
     ]
    }
   ],
   "source": [
    "w,z = input(\"Enter a value: \"),input(\"Enter b value: \")\n",
    "print(w,type(w),z,type(z))"
   ]
  },
  {
   "cell_type": "markdown",
   "id": "31bf78a4",
   "metadata": {},
   "source": [
    "```\n",
    "Task:\n",
    "=====\n",
    "    Input:\n",
    "        4\n",
    "        5\n",
    "    Output:\n",
    "        Addition of 4 and 5 is: 9\n",
    "        Substraction of '4' and '5' is: -1\n",
    "```"
   ]
  },
  {
   "cell_type": "code",
   "execution_count": 15,
   "id": "f5fdeecb",
   "metadata": {},
   "outputs": [
    {
     "name": "stdout",
     "output_type": "stream",
     "text": [
      "3\n",
      "4\n",
      "Addition of 3 and 4 is: 7\n",
      "subtraction of '3' and '4' is: -1\n"
     ]
    }
   ],
   "source": [
    "a=int(input())\n",
    "b=int(input())\n",
    "addition=a+b\n",
    "subtraction=a-b\n",
    "print(\"Addition of \"+str(a)+\" and \"+str(b)+\" is: \"+str(addition))\n",
    "print(\"subtraction of '\"+str(a)+\"' and '\"+str(b)+\"' is: \"+str(subtraction))"
   ]
  },
  {
   "cell_type": "code",
   "execution_count": 17,
   "id": "3f0bf348",
   "metadata": {},
   "outputs": [
    {
     "name": "stdout",
     "output_type": "stream",
     "text": [
      "5\n",
      "6\n",
      "Addition of 5 and 6 is: 11\n",
      "substraction of '5' and '6' is: -1\n"
     ]
    }
   ],
   "source": [
    "a,b=input(),input()\n",
    "print(\"Addition of \"+a+\" and \"+b+\" is: \"+str(int(a)+int(b)))\n",
    "print(\"substraction of '\"+a+\"' and '\"+b+\"' is: \"+str(int(a)-int(b)))"
   ]
  },
  {
   "cell_type": "markdown",
   "id": "221e2b33",
   "metadata": {},
   "source": [
    "## Output Formatting:\n",
    "    - ,+\n",
    "    - %\n",
    "    - .format\n",
    "    - f"
   ]
  },
  {
   "cell_type": "code",
   "execution_count": 27,
   "id": "3b1723d8",
   "metadata": {},
   "outputs": [
    {
     "name": "stdout",
     "output_type": "stream",
     "text": [
      "Enter a value: 1\n",
      "Enter b value: 8\n",
      "Addition of 1 and 8 is: 18\n",
      "Addition of 1 and 8 is: 18\n",
      "Addition of 1 and 8 is: 18\n",
      "Addition of 1 and 8 is: 18\n",
      "Addition of 1 and 8 is: 18\n"
     ]
    }
   ],
   "source": [
    "m = input(\"Enter a value: \")\n",
    "k = input(\"Enter b value: \")\n",
    "print(\"Addition of\",m,\"and\",k,\"is:\",m+k)\n",
    "print(\"Addition of \"+m+\" and \"+k+\" is: \"+(m+k))\n",
    "print(\"Addition of %s and %s is: %s\"%(m,k,m+k))\n",
    "print(\"Addition of {} and {} is: {}\".format(m,k,m+k))\n",
    "print(\"Addition of {1} and {0} is: {2}\".format(m,k,m+k))\n",
    "print(f\"Addition of {m} and {k} is: {m+k}\")"
   ]
  },
  {
   "cell_type": "code",
   "execution_count": 29,
   "id": "b2b8bb2f",
   "metadata": {},
   "outputs": [
    {
     "name": "stdout",
     "output_type": "stream",
     "text": [
      "Enter a value: 1\n",
      "Enter b value: 2\n",
      "Addition of 1 and 2 is: 3\n",
      "Addition of 1 and 2 is: 3\n",
      "Addition of 1 and 2 is: 3\n",
      "Addition of 2 and 1 is: 3\n",
      "Addition of 1 and 2 is: 3\n"
     ]
    }
   ],
   "source": [
    "m = int(input(\"Enter a value: \"))\n",
    "k = int(input(\"Enter b value: \"))\n",
    "print(\"Addition of\",m,\"and\",k,\"is:\",m+k)\n",
    "# print(\"Addition of \"+m+\" and \"+k+\" is: \"+(m+k))\n",
    "print(\"Addition of %s and %s is: %s\"%(m,k,m+k))\n",
    "print(\"Addition of {} and {} is: {}\".format(m,k,m+k))\n",
    "print(\"Addition of {1} and {0} is: {2}\".format(m,k,m+k))\n",
    "print(f\"Addition of {m} and {k} is: {m+k}\")"
   ]
  },
  {
   "cell_type": "markdown",
   "id": "dd25b073",
   "metadata": {},
   "source": [
    "```\n",
    "    Task:\n",
    "    =====\n",
    "        Input:\n",
    "            5\n",
    "            6\n",
    "            2\n",
    "        Output:\n",
    "            Given Expresssion 3x^2+5y+3c is: ?\n",
    "```"
   ]
  },
  {
   "cell_type": "code",
   "execution_count": 33,
   "id": "900c540b",
   "metadata": {},
   "outputs": [
    {
     "name": "stdout",
     "output_type": "stream",
     "text": [
      "5\n",
      "6\n",
      "2\n",
      "Given Expression 3x^2+5y+3c is:111\n"
     ]
    }
   ],
   "source": [
    "x,y,c=int(input()),int(input()),int(input())\n",
    "print(\"Given Expression 3x^2+5y+3c is:{}\".format(3*x*x+5*y+3*c))"
   ]
  },
  {
   "cell_type": "code",
   "execution_count": 36,
   "id": "75b2b674",
   "metadata": {},
   "outputs": [
    {
     "name": "stdout",
     "output_type": "stream",
     "text": [
      "34\n",
      "45\n",
      "32\n",
      "32\n"
     ]
    }
   ],
   "source": [
    "q = 45\n",
    "r = 34\n",
    "print(q and r)\n",
    "print(r and q)\n",
    "print(q & r)\n",
    "print(r & q)"
   ]
  },
  {
   "cell_type": "code",
   "execution_count": 37,
   "id": "66a1ea88",
   "metadata": {},
   "outputs": [
    {
     "name": "stdout",
     "output_type": "stream",
     "text": [
      "45\n",
      "34\n",
      "47\n",
      "47\n"
     ]
    }
   ],
   "source": [
    "print(q or r)\n",
    "print(r or q)\n",
    "print(q | r)\n",
    "print(r | q)"
   ]
  },
  {
   "cell_type": "markdown",
   "id": "08344114",
   "metadata": {},
   "source": [
    "## Conditional Statements:\n",
    "    - To check whether a given condition statement is either True or False\n",
    "    - if => single case\n",
    "    - if-else => two cases\n",
    "    - nested if => two or more cases\n",
    "    - elif => two or more n number of cases and based on preference we need to use elif"
   ]
  },
  {
   "cell_type": "markdown",
   "id": "5652a72d",
   "metadata": {},
   "source": [
    "## if\n",
    "    Syntax:\n",
    "        if condition:\n",
    "            //statements\n",
    "        () => Optional"
   ]
  },
  {
   "cell_type": "code",
   "execution_count": 39,
   "id": "f6aa1996",
   "metadata": {},
   "outputs": [
    {
     "name": "stdout",
     "output_type": "stream",
     "text": [
      "Enter a number: 450\n",
      "Entered number 450 is Greater than 20\n"
     ]
    }
   ],
   "source": [
    "k = int(input(\"Enter a number: \"))\n",
    "if k>20:\n",
    "    print(f\"Entered number {k} is Greater than 20\")"
   ]
  },
  {
   "cell_type": "code",
   "execution_count": 41,
   "id": "d74799a6",
   "metadata": {},
   "outputs": [
    {
     "name": "stdout",
     "output_type": "stream",
     "text": [
      "Enter a name: Rajesh\n",
      "Entered Name is Rajesh equal to Rajesh\n"
     ]
    }
   ],
   "source": [
    "w = input(\"Enter a name: \")\n",
    "if w == \"Rajesh\":\n",
    "    print(f\"Entered Name is {w} equal to Rajesh\")"
   ]
  },
  {
   "cell_type": "markdown",
   "id": "8655eec4",
   "metadata": {},
   "source": [
    "## if-else\n",
    "    Syntax:\n",
    "        if condition:\n",
    "            //statement-1\n",
    "        else:\n",
    "            //statement-2\n",
    "        () => Optional"
   ]
  },
  {
   "cell_type": "code",
   "execution_count": 44,
   "id": "273cc2d9",
   "metadata": {},
   "outputs": [
    {
     "name": "stdout",
     "output_type": "stream",
     "text": [
      "Enter a number: 1520\n",
      "Entered number 1520 is Not Equal to 20\n"
     ]
    }
   ],
   "source": [
    "c = int(input(\"Enter a number: \"))\n",
    "if c!=20:\n",
    "    print(f\"Entered number {c} is Not Equal to 20\")\n",
    "else:\n",
    "    print(f\"Entered number {c} is Equal to 20\")"
   ]
  },
  {
   "cell_type": "code",
   "execution_count": null,
   "id": "ed1c9fb4",
   "metadata": {},
   "outputs": [],
   "source": []
  }
 ],
 "metadata": {
  "kernelspec": {
   "display_name": "Python 3 (ipykernel)",
   "language": "python",
   "name": "python3"
  },
  "language_info": {
   "codemirror_mode": {
    "name": "ipython",
    "version": 3
   },
   "file_extension": ".py",
   "mimetype": "text/x-python",
   "name": "python",
   "nbconvert_exporter": "python",
   "pygments_lexer": "ipython3",
   "version": "3.9.13"
  }
 },
 "nbformat": 4,
 "nbformat_minor": 5
}
