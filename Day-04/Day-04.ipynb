{
 "cells": [
  {
   "cell_type": "markdown",
   "id": "69427a64",
   "metadata": {},
   "source": [
    "```\n",
    "Task:\n",
    "=====\n",
    "    Input:\n",
    "        2\n",
    "        5\n",
    "        6\n",
    "    Output:\n",
    "        Entered number 2 is Even\n",
    "        Given Expression 5x^3+2y is: ?\n",
    "    \n",
    "    Input:\n",
    "        1\n",
    "        2\n",
    "        6\n",
    "    Output:\n",
    "        Entered number 1 is Odd\n",
    "        Given Expression 2x^4+4y is: ?\n",
    "```"
   ]
  },
  {
   "cell_type": "code",
   "execution_count": 3,
   "id": "adc7f1b8",
   "metadata": {},
   "outputs": [
    {
     "name": "stdout",
     "output_type": "stream",
     "text": [
      "3\n",
      "2\n",
      "4\n",
      "Entered number 3 is Odd\n",
      "Given Expression 2x^4+4y is: 48\n"
     ]
    }
   ],
   "source": [
    "a,b,c = int(input()),int(input()),int(input())\n",
    "if a%2==0:\n",
    "    print(f\"Entered number {a} is Even\")\n",
    "    print(f\"Given Expression 5x^3+2y is: {5*b**3+2*c}\")\n",
    "else:\n",
    "    print(f\"Entered number {a} is Odd\")\n",
    "    print(f\"Given Expression 2x^4+4y is: {2*b**4+4*c}\")"
   ]
  },
  {
   "cell_type": "markdown",
   "id": "19576876",
   "metadata": {},
   "source": [
    "## Nested If\n",
    "    Syntax:\n",
    "        if condition-1:\n",
    "            if condition-2:\n",
    "                //statement-1\n",
    "            else:\n",
    "                //statement-2\n",
    "        else:\n",
    "            //stmnt-n\n",
    "    else => Optional in Nested if"
   ]
  },
  {
   "cell_type": "code",
   "execution_count": 6,
   "id": "f11ef804",
   "metadata": {},
   "outputs": [
    {
     "name": "stdout",
     "output_type": "stream",
     "text": [
      "Enter a number: 250\n",
      "Entered number 250 is Less than 300\n"
     ]
    }
   ],
   "source": [
    "y = int(input(\"Enter a number: \"))\n",
    "if y>100:\n",
    "    if y>300:\n",
    "        print(f\"Entered number {y} is Greater than 300\")\n",
    "    else:\n",
    "        print(f\"Entered number {y} is Less than 300\")\n",
    "else:\n",
    "    print(f\"Entered number {y} is Less than 100\")"
   ]
  },
  {
   "cell_type": "code",
   "execution_count": 10,
   "id": "ad6280e7",
   "metadata": {},
   "outputs": [
    {
     "name": "stdout",
     "output_type": "stream",
     "text": [
      "Enter your user name: ECE\n",
      "Enter your Password: sse2023\n",
      "welcome user ECE\n"
     ]
    }
   ],
   "source": [
    "username,password=input(\"Enter your user name: \"),input(\"Enter your Password: \")\n",
    "if username==\"ECE\":\n",
    "    if password==\"sse2023\":\n",
    "        print(f\"welcome user {username}\")\n",
    "    else:\n",
    "        print(\"invalid username/password\")\n",
    "else:\n",
    "    print(\"invalid username/password\")"
   ]
  },
  {
   "cell_type": "code",
   "execution_count": 14,
   "id": "693b26a4",
   "metadata": {},
   "outputs": [
    {
     "name": "stdout",
     "output_type": "stream",
     "text": [
      "Enter your user name: ECE\n",
      "Enter your Password: sse2023\n",
      "welcome user ECE\n"
     ]
    }
   ],
   "source": [
    "username,password=input(\"Enter your user name: \"),input(\"Enter your Password: \")\n",
    "if username == \"ECE\" and password == \"sse2023\":\n",
    "    print(f\"welcome user {username}\")\n",
    "else:\n",
    "    print(\"Invalid Username/password\")"
   ]
  },
  {
   "cell_type": "code",
   "execution_count": 17,
   "id": "b9165c9b",
   "metadata": {},
   "outputs": [
    {
     "name": "stdout",
     "output_type": "stream",
     "text": [
      "enter your mail id: sample@gmail.com\n",
      "enter your password: 205\n",
      "Welcome User sample@gmail.com\n"
     ]
    }
   ],
   "source": [
    "n = input(\"enter your mail id: \")\n",
    "if n == \"sample@gmail.com\":\n",
    "    m = input(\"enter your password: \")\n",
    "    if m == \"205\":\n",
    "        print(f\"Welcome User {n}\")\n",
    "    else:\n",
    "        print(\"Invalid Password\")\n",
    "else:\n",
    "    print(f\"Invalid Mailid {n}\")"
   ]
  },
  {
   "cell_type": "markdown",
   "id": "653cac2b",
   "metadata": {},
   "source": [
    "## Elif\n",
    "    Syntax:\n",
    "        if condition-1:\n",
    "            //statement-1\n",
    "        elif condition-2:\n",
    "            //statement-2\n",
    "            |        |\n",
    "        elif condition-n:\n",
    "            //statement-n\n",
    "        else:\n",
    "            //statemnet-(n-2)"
   ]
  },
  {
   "cell_type": "code",
   "execution_count": 23,
   "id": "d8b17ae2",
   "metadata": {},
   "outputs": [
    {
     "name": "stdout",
     "output_type": "stream",
     "text": [
      "Enter a number: 29\n",
      "Entered number 29 is Odd\n"
     ]
    }
   ],
   "source": [
    "w = int(input(\"Enter a number: \"))\n",
    "if w%2==0 and w%5==0:\n",
    "    print(f\"Entered number {w} is Divisible by 2 and 5\")\n",
    "elif w%2==0:\n",
    "    print(f\"Entered number {w} is Even\")\n",
    "elif w%3==0:\n",
    "    print(f\"Entered number {w} is Divisible by 3\")\n",
    "else:\n",
    "    print(f\"Entered number {w} is Odd\")"
   ]
  },
  {
   "cell_type": "markdown",
   "id": "54a67a3f",
   "metadata": {},
   "source": [
    "## Looping Statements\n",
    "    - Loops,Iterations,Repititions\n",
    "    - To iterate a statemnet for n number of times\n",
    "    - for => known ranges\n",
    "    - while => known and unknown ranges"
   ]
  },
  {
   "cell_type": "markdown",
   "id": "71e60e4f",
   "metadata": {},
   "source": [
    "## For:\n",
    "    Syntax:\n",
    "        for iterationvariablename in range(start,stop,step):\n",
    "            //statements\n",
    "            \n",
    "                    or\n",
    "        for iterationvariablename in iterator:\n",
    "            //statements\n",
    "        \n",
    "       Itertors => List,Tuple,Set,Dictionary,String"
   ]
  },
  {
   "cell_type": "markdown",
   "id": "631debdd",
   "metadata": {},
   "source": [
    "## range:\n",
    "    => range(stop)\n",
    "        - By default it starts with 0\n",
    "        - It increments with +1 value\n",
    "        - It ends with stop-1 value\n",
    "        Ex:\n",
    "            range(5):\n",
    "            0 1 2 3 4\n",
    "    => range(start,stop)\n",
    "        - It exactly starts with start value\n",
    "        - It increments with +1 value\n",
    "        - It ends with stop-1 value\n",
    "        Ex:\n",
    "            range(5,10):\n",
    "            5 6 7 8 9\n",
    "    => range(start,stop,step)\n",
    "        - It exatly starts with start value\n",
    "        - It increments/decrements with step value\n",
    "        - It ends with stop-1 value\n",
    "        Ex:\n",
    "            range(5,20,3):\n",
    "            5 8 11 14 17 "
   ]
  },
  {
   "cell_type": "code",
   "execution_count": 32,
   "id": "b2b09f08",
   "metadata": {},
   "outputs": [
    {
     "name": "stdout",
     "output_type": "stream",
     "text": [
      "Enter a range: 5\n",
      "0 1 2 3 4 "
     ]
    }
   ],
   "source": [
    "n = int(input(\"Enter a range: \"))\n",
    "for i in range(n):\n",
    "    print(i,end=\" \")"
   ]
  },
  {
   "cell_type": "code",
   "execution_count": 33,
   "id": "271d0b43",
   "metadata": {},
   "outputs": [
    {
     "name": "stdout",
     "output_type": "stream",
     "text": [
      "Enter a range: 10\n",
      "1 2 3 4 5 6 7 8 9 10 "
     ]
    }
   ],
   "source": [
    "n = int(input(\"Enter a range: \"))\n",
    "for i in range(n):\n",
    "    print(i+1,end=\" \")"
   ]
  },
  {
   "cell_type": "code",
   "execution_count": 34,
   "id": "c86a51fd",
   "metadata": {},
   "outputs": [
    {
     "name": "stdout",
     "output_type": "stream",
     "text": [
      "Enter a range: 5\n",
      "     4\n"
     ]
    }
   ],
   "source": [
    "n = int(input(\"Enter a range: \"))\n",
    "for i in range(n):\n",
    "    print(end=\" \")\n",
    "print(i)"
   ]
  },
  {
   "cell_type": "code",
   "execution_count": 35,
   "id": "5c2df408",
   "metadata": {},
   "outputs": [
    {
     "name": "stdout",
     "output_type": "stream",
     "text": [
      "Enter a range: 5\n",
      "4 3 2 1 0 "
     ]
    }
   ],
   "source": [
    "k = int(input(\"Enter a range: \"))\n",
    "for i in range(k):\n",
    "    print(k-i-1,end=\" \")"
   ]
  },
  {
   "cell_type": "markdown",
   "id": "213abc3d",
   "metadata": {},
   "source": [
    "```\n",
    "Task:\n",
    "=====\n",
    "    Input:\n",
    "        5\n",
    "    Output:\n",
    "        yes\n",
    "        -1\n",
    "        yes\n",
    "        -1\n",
    "        yes\n",
    "```"
   ]
  },
  {
   "cell_type": "code",
   "execution_count": 36,
   "id": "f4675f09",
   "metadata": {},
   "outputs": [
    {
     "name": "stdout",
     "output_type": "stream",
     "text": [
      "5\n",
      "yes\n",
      "-1\n",
      "yes\n",
      "-1\n",
      "yes\n"
     ]
    }
   ],
   "source": [
    "h = int(input())\n",
    "for j in range(h):\n",
    "    if j%2==0:\n",
    "        print(\"yes\")\n",
    "    else:\n",
    "        print(\"-1\")"
   ]
  },
  {
   "cell_type": "code",
   "execution_count": 37,
   "id": "1c387e07",
   "metadata": {},
   "outputs": [
    {
     "name": "stdout",
     "output_type": "stream",
     "text": [
      "Enter Start range: 10\n",
      "Enter End range: 20\n",
      "10 11 12 13 14 15 16 17 18 19 "
     ]
    }
   ],
   "source": [
    "n,m = int(input(\"Enter Start range: \")),int(input(\"Enter End range: \"))\n",
    "for i in range(n,m):\n",
    "    print(i,end=\" \")"
   ]
  },
  {
   "cell_type": "code",
   "execution_count": 38,
   "id": "e9451e30",
   "metadata": {},
   "outputs": [
    {
     "name": "stdout",
     "output_type": "stream",
     "text": [
      "Enter Start range: 10\n",
      "Enter End range: 20\n",
      "19 18 17 16 15 14 13 12 11 10 "
     ]
    }
   ],
   "source": [
    "n,m = int(input(\"Enter Start range: \")),int(input(\"Enter End range: \"))\n",
    "for i in range(n,m):\n",
    "    print(n+m-i-1,end=\" \")"
   ]
  },
  {
   "cell_type": "markdown",
   "id": "5d67479e",
   "metadata": {},
   "source": [
    "```\n",
    "Task:\n",
    "=====\n",
    "    Input:\n",
    "        5\n",
    "        9\n",
    "    Output:\n",
    "        25\n",
    "        6\n",
    "        49\n",
    "        8\n",
    "```"
   ]
  },
  {
   "cell_type": "code",
   "execution_count": 39,
   "id": "ce2f6277",
   "metadata": {},
   "outputs": [
    {
     "name": "stdout",
     "output_type": "stream",
     "text": [
      "5\n",
      "9\n",
      "25\n",
      "6\n",
      "49\n",
      "8\n"
     ]
    }
   ],
   "source": [
    "a,b = int(input()),int(input())\n",
    "for i in range(a,b):\n",
    "    if i%2!=0:\n",
    "        print(i**2)\n",
    "    else:\n",
    "        print(i)"
   ]
  },
  {
   "cell_type": "code",
   "execution_count": 44,
   "id": "c69b1497",
   "metadata": {},
   "outputs": [
    {
     "name": "stdout",
     "output_type": "stream",
     "text": [
      "Enter start range: -10\n",
      "Enter End range: -20\n",
      "Enter Step range: -3\n",
      "-10 -13 -16 -19 "
     ]
    }
   ],
   "source": [
    "a,b,c = int(input(\"Enter start range: \")),int(input(\"Enter End range: \")),int(input(\"Enter Step range: \"))\n",
    "for i in range(a,b,c):\n",
    "    print(i,end=\" \")"
   ]
  },
  {
   "cell_type": "markdown",
   "id": "5cba1e02",
   "metadata": {},
   "source": [
    "## While:\n",
    "    Syntax:\n",
    "        initialization\n",
    "        while condition:\n",
    "            //statements\n",
    "            incr/decr"
   ]
  },
  {
   "cell_type": "code",
   "execution_count": 48,
   "id": "e1933d06",
   "metadata": {},
   "outputs": [
    {
     "name": "stdout",
     "output_type": "stream",
     "text": [
      "Enter a range: 5\n",
      "0 1 2 3 4 "
     ]
    }
   ],
   "source": [
    "k = 0\n",
    "m = int(input(\"Enter a range: \"))\n",
    "while k<m:\n",
    "    print(k,end=\" \")\n",
    "    k+=1"
   ]
  },
  {
   "cell_type": "code",
   "execution_count": 50,
   "id": "86e699c6",
   "metadata": {},
   "outputs": [
    {
     "name": "stdout",
     "output_type": "stream",
     "text": [
      "Enter a range: 5\n",
      "4 3 2 1 0 "
     ]
    }
   ],
   "source": [
    "w = int(input(\"Enter a range: \"))\n",
    "while w!=0:\n",
    "    w-=1\n",
    "    print(w,end=\" \")"
   ]
  },
  {
   "cell_type": "code",
   "execution_count": 2,
   "id": "4f092308",
   "metadata": {},
   "outputs": [
    {
     "name": "stdout",
     "output_type": "stream",
     "text": [
      "Enter a number: 456786\n",
      "Reverse of 456786 is: 687654\n"
     ]
    }
   ],
   "source": [
    "n = int(input(\"Enter a number: \"))\n",
    "r = 0\n",
    "y = n\n",
    "while n!=0:\n",
    "    r=r*10+n%10\n",
    "    n=n//10\n",
    "print(f\"Reverse of {y} is: {r}\")"
   ]
  },
  {
   "cell_type": "code",
   "execution_count": null,
   "id": "09a7e69f",
   "metadata": {},
   "outputs": [],
   "source": []
  }
 ],
 "metadata": {
  "kernelspec": {
   "display_name": "Python 3 (ipykernel)",
   "language": "python",
   "name": "python3"
  },
  "language_info": {
   "codemirror_mode": {
    "name": "ipython",
    "version": 3
   },
   "file_extension": ".py",
   "mimetype": "text/x-python",
   "name": "python",
   "nbconvert_exporter": "python",
   "pygments_lexer": "ipython3",
   "version": "3.9.13"
  }
 },
 "nbformat": 4,
 "nbformat_minor": 5
}
